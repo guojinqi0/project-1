{
 "cells": [
  {
   "cell_type": "code",
   "execution_count": null,
   "metadata": {},
   "outputs": [],
   "source": [
    "#This is the code to test if we can pull out data from certain occupation code. It is for the survey “modeled wage estimates”, you just have to change the ‘occipationcode’"
   ]
  },
  {
   "cell_type": "code",
   "execution_count": 2,
   "metadata": {},
   "outputs": [],
   "source": [
    "import json\n",
    "import requests\n",
    "import pandas as pd\n",
    "from pprint import pprint\n",
    "#from config import api_key"
   ]
  },
  {
   "cell_type": "code",
   "execution_count": 10,
   "metadata": {},
   "outputs": [
    {
     "name": "stdout",
     "output_type": "stream",
     "text": [
      "Making request for Code: 413099\n",
      "Making request for Code: 111011\n",
      "Making request for Code: 113121\n",
      "Making request for Code: 119041\n",
      "Making request for Code: 151251\n"
     ]
    },
    {
     "data": {
      "text/plain": [
       "[{'status': 'REQUEST_SUCCEEDED',\n",
       "  'responseTime': 1498,\n",
       "  'message': ['No Data Available for Series WMU40000011020000004130992500 Year: 2015',\n",
       "   'No Data Available for Series WMU40000011020000004130992500 Year: 2016',\n",
       "   'No Data Available for Series WMU40000011020000004130992500 Year: 2017',\n",
       "   'No Data Available for Series WMU40000011020000004130992500 Year: 2019'],\n",
       "  'Results': {'series': [{'seriesID': 'WMU40000011020000004130992500',\n",
       "     'catalog': {'series_title': 'Average hourly wage for sales representatives, services, all other, full-time, in Northeast Oklahoma nonmetropolitan area',\n",
       "      'series_id': 'WMU40000011020000004130992500',\n",
       "      'seasonality': 'Not Seasonally Adjusted',\n",
       "      'survey_name': 'Modeled Wage Estimates',\n",
       "      'survey_abbreviation': 'WM',\n",
       "      'measure_data_type': 'Average Hourly Wage',\n",
       "      'commerce_industry': 'All industries',\n",
       "      'occupation': 'Sales Representatives, Services, All Other',\n",
       "      'occupation_work_class': 'Civilian workers',\n",
       "      'area': 'Northeast Oklahoma nonmetropolitan area'},\n",
       "     'data': [{'year': '2018',\n",
       "       'period': 'A01',\n",
       "       'periodName': 'Annual',\n",
       "       'latest': 'true',\n",
       "       'value': '25.93',\n",
       "       'footnotes': [{}]}]}]}},\n",
       " {'status': 'REQUEST_SUCCEEDED',\n",
       "  'responseTime': 402,\n",
       "  'message': ['No Data Available for Series WMU40000011020000001110112500 Year: 2015',\n",
       "   'No Data Available for Series WMU40000011020000001110112500 Year: 2016',\n",
       "   'No Data Available for Series WMU40000011020000001110112500 Year: 2017',\n",
       "   'No Data Available for Series WMU40000011020000001110112500 Year: 2019'],\n",
       "  'Results': {'series': [{'seriesID': 'WMU40000011020000001110112500',\n",
       "     'catalog': {'series_title': 'Average hourly wage for chief executives, full-time, in Northeast Oklahoma nonmetropolitan area',\n",
       "      'series_id': 'WMU40000011020000001110112500',\n",
       "      'seasonality': 'Not Seasonally Adjusted',\n",
       "      'survey_name': 'Modeled Wage Estimates',\n",
       "      'survey_abbreviation': 'WM',\n",
       "      'measure_data_type': 'Average Hourly Wage',\n",
       "      'commerce_industry': 'All industries',\n",
       "      'occupation': 'Chief Executives',\n",
       "      'occupation_work_class': 'Civilian workers',\n",
       "      'area': 'Northeast Oklahoma nonmetropolitan area'},\n",
       "     'data': [{'year': '2018',\n",
       "       'period': 'A01',\n",
       "       'periodName': 'Annual',\n",
       "       'latest': 'true',\n",
       "       'value': '62.92',\n",
       "       'footnotes': [{}]}]}]}},\n",
       " {'status': 'REQUEST_SUCCEEDED',\n",
       "  'responseTime': 205,\n",
       "  'message': ['No Data Available for Series WMU40000011020000001131212500 Year: 2015',\n",
       "   'No Data Available for Series WMU40000011020000001131212500 Year: 2016',\n",
       "   'No Data Available for Series WMU40000011020000001131212500 Year: 2017',\n",
       "   'No Data Available for Series WMU40000011020000001131212500 Year: 2019'],\n",
       "  'Results': {'series': [{'seriesID': 'WMU40000011020000001131212500',\n",
       "     'catalog': {'series_title': 'Average hourly wage for human resources managers, full-time, in Northeast Oklahoma nonmetropolitan area',\n",
       "      'series_id': 'WMU40000011020000001131212500',\n",
       "      'seasonality': 'Not Seasonally Adjusted',\n",
       "      'survey_name': 'Modeled Wage Estimates',\n",
       "      'survey_abbreviation': 'WM',\n",
       "      'measure_data_type': 'Average Hourly Wage',\n",
       "      'commerce_industry': 'All industries',\n",
       "      'occupation': 'Human Resources Managers',\n",
       "      'occupation_work_class': 'Civilian workers',\n",
       "      'area': 'Northeast Oklahoma nonmetropolitan area'},\n",
       "     'data': [{'year': '2018',\n",
       "       'period': 'A01',\n",
       "       'periodName': 'Annual',\n",
       "       'latest': 'true',\n",
       "       'value': '47.91',\n",
       "       'footnotes': [{}]}]}]}},\n",
       " {'status': 'REQUEST_SUCCEEDED',\n",
       "  'responseTime': 936,\n",
       "  'message': ['Series does not exist for Series WMU40000011020000001190412500',\n",
       "   'Unable to get Catalog Data for series WMU40000011020000001190412500'],\n",
       "  'Results': {'series': [{'seriesID': 'WMU40000011020000001190412500',\n",
       "     'data': []}]}},\n",
       " {'status': 'REQUEST_SUCCEEDED',\n",
       "  'responseTime': 144,\n",
       "  'message': ['Series does not exist for Series WMU40000011020000001512512500',\n",
       "   'Unable to get Catalog Data for series WMU40000011020000001512512500'],\n",
       "  'Results': {'series': [{'seriesID': 'WMU40000011020000001512512500',\n",
       "     'data': []}]}}]"
      ]
     },
     "execution_count": 10,
     "metadata": {},
     "output_type": "execute_result"
    }
   ],
   "source": [
    "\n",
    "\n",
    "api_key=\"c49e1161638c45b69bdde411af1d595e\"\n",
    "base_url = 'https://api.bls.gov/publicAPI/v2/timeseries/data/'\n",
    "startyear = '2015'\n",
    "endyear = '2019'\n",
    "occupationcode = [413099, 111011, 113121, 119041,151251]\n",
    "response_json = []\n",
    "for i in range(len(occupationcode)):\n",
    "    print(f\"Making request for Code: {occupationcode[i]}\")\n",
    "    post_response = requests.get(base_url + 'WMU4000001102000000' + str(occupationcode[i]) + '2500?registrationkey='+\n",
    "                                 api_key + '&catalog=true&startyear=' +startyear + '&endyear=' + endyear +\n",
    "                                 '&calculations=false&annualaverage=false')\n",
    "    response_json.append(post_response.json())\n",
    "response_json\n",
    "\n"
   ]
  }
 ],
 "metadata": {
  "kernelspec": {
   "display_name": "Python 3",
   "language": "python",
   "name": "python3"
  },
  "language_info": {
   "codemirror_mode": {
    "name": "ipython",
    "version": 3
   },
   "file_extension": ".py",
   "mimetype": "text/x-python",
   "name": "python",
   "nbconvert_exporter": "python",
   "pygments_lexer": "ipython3",
   "version": "3.6.5"
  }
 },
 "nbformat": 4,
 "nbformat_minor": 2
}
