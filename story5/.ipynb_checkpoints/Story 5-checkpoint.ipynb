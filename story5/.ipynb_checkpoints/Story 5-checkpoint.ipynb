{
 "cells": [
  {
   "cell_type": "code",
   "execution_count": 62,
   "metadata": {},
   "outputs": [],
   "source": [
    "#import dependencies\n",
    "import json\n",
    "import requests\n",
    "import pandas as pd\n",
    "from pprint import pprint\n",
    "from config import api_key\n",
    "import matplotlib.pyplot as plt\n",
    "import os\n",
    "import seaborn as sns"
   ]
  },
  {
   "cell_type": "code",
   "execution_count": 63,
   "metadata": {},
   "outputs": [],
   "source": [
    "# # backup data sources.  I ran into an issue where the data was not available via the API because the website was down. \n",
    "# bach = os.path.join(\"bach.csv\")\n",
    "# workexp = os.path.join(\"workexp.csv\")\n",
    "# bachdf = pd.read_csv(bach)\n",
    "# workdf = pd.read_csv(workexp)"
   ]
  },
  {
   "cell_type": "code",
   "execution_count": 64,
   "metadata": {},
   "outputs": [
    {
     "data": {
      "text/plain": [
       "'84e4798844734bdb95e6143366988f24'"
      ]
     },
     "execution_count": 64,
     "metadata": {},
     "output_type": "execute_result"
    }
   ],
   "source": [
    "#import API key\n",
    "api_key"
   ]
  },
  {
   "cell_type": "code",
   "execution_count": 65,
   "metadata": {},
   "outputs": [],
   "source": [
    "#input the various components of the API call in to variables so that they can be used in my for loop\n",
    "base_url = 'https://api.bls.gov/publicAPI/v2/timeseries/data/'\n",
    "startyear = '2018'\n",
    "endyear = '2018'"
   ]
  },
  {
   "cell_type": "code",
   "execution_count": 66,
   "metadata": {
    "scrolled": false
   },
   "outputs": [
    {
     "name": "stdout",
     "output_type": "stream",
     "text": [
      "Making request for Code: 092\n",
      "Making request for Code: 091\n",
      "Making request for Code: 057\n",
      "Making request for Code: 087\n",
      "Making request for Code: 080\n",
      "Making request for Code: 127\n",
      "Making request for Code: 130\n",
      "Making request for Code: 125\n",
      "Making request for Code: 123\n",
      "Making request for Code: 126\n",
      "Making request for Code: 184\n",
      "Making request for Code: 166\n",
      "Making request for Code: 168\n",
      "Making request for Code: 169\n",
      "Making request for Code: 162\n"
     ]
    },
    {
     "data": {
      "text/plain": [
       "[{'Occupation': 'Market Research Analysts and Marketing Specialists',\n",
       "  \"% Percent with bachelor's degree\": '84.8'},\n",
       " {'Occupation': 'Training and Development Specialists',\n",
       "  \"% Percent with bachelor's degree\": '70.8'},\n",
       " {'Occupation': 'Compliance Managers',\n",
       "  \"% Percent with bachelor's degree\": '57.7'},\n",
       " {'Occupation': 'Management Analysts',\n",
       "  \"% Percent with bachelor's degree\": '87.5'},\n",
       " {'Occupation': 'Cost Estimators', \"% Percent with bachelor's degree\": '37.0'},\n",
       " {'Occupation': 'Software Developers, Applications',\n",
       "  \"% Percent with bachelor's degree\": '88.6'},\n",
       " {'Occupation': 'Database Administrators',\n",
       "  \"% Percent with bachelor's degree\": '89.1'},\n",
       " {'Occupation': 'Information Security Analysts',\n",
       "  \"% Percent with bachelor's degree\": '85.7'},\n",
       " {'Occupation': 'Computer Systems Analysts',\n",
       "  \"% Percent with bachelor's degree\": '80.1'},\n",
       " {'Occupation': 'Computer Programmers',\n",
       "  \"% Percent with bachelor's degree\": '84.2'},\n",
       " {'Occupation': 'Mechanical Engineers',\n",
       "  \"% Percent with bachelor's degree\": '90.7'},\n",
       " {'Occupation': 'Civil Engineers', \"% Percent with bachelor's degree\": '97.4'},\n",
       " {'Occupation': 'Computer Hardware Engineers',\n",
       "  \"% Percent with bachelor's degree\": '85.1'},\n",
       " {'Occupation': 'Electrical Engineers',\n",
       "  \"% Percent with bachelor's degree\": '95.2'},\n",
       " {'Occupation': 'Aerospace Engineers',\n",
       "  \"% Percent with bachelor's degree\": '80.7'}]"
      ]
     },
     "execution_count": 66,
     "metadata": {},
     "output_type": "execute_result"
    }
   ],
   "source": [
    "#These occupation codes correlate to the jobs we are investigation. The codes come from here:https://download.bls.gov/pub/time.series/or/or.occupation\n",
    "occupationcode = [\"092\", \"091\", \"057\", \"087\", \"080\", \"127\", \"130\", \"125\", \"123\", \"126\", \"184\", \"166\", \"168\", \"169\", \"162\"]\n",
    "\n",
    "#put the data i find into a list\n",
    "bachelors_data = []\n",
    "\n",
    "#for loop for each occupation code.  Print out the call, then also append the results to my list of dicts\n",
    "for i in range(len(occupationcode)):\n",
    "    print(f\"Making request for Code: {occupationcode[i]}\")\n",
    "    post_response = requests.get(base_url + 'ORUV10000' + occupationcode[i] + '00001029?registrationkey='+\n",
    "                                 api_key + '&catalog=true&startyear=' +startyear + '&endyear=' + endyear +\n",
    "                                 '&calculations=false&annualaverage=false').json()\n",
    "    \n",
    "    bachelors_data.append({\n",
    "        \"Occupation\":post_response[\"Results\"][\"series\"][0][\"catalog\"][\"occupation\"],\n",
    "        \"% Percent with bachelor's degree\": post_response[\"Results\"][\"series\"][0][\"data\"][0][\"value\"]\n",
    "        })\n",
    "\n",
    "bachelors_data\n",
    "\n"
   ]
  },
  {
   "cell_type": "code",
   "execution_count": 67,
   "metadata": {},
   "outputs": [
    {
     "name": "stdout",
     "output_type": "stream",
     "text": [
      "Making request for Code: 092\n",
      "Making request for Code: 091\n",
      "Making request for Code: 057\n",
      "Making request for Code: 087\n",
      "Making request for Code: 080\n",
      "Making request for Code: 127\n",
      "Making request for Code: 130\n",
      "Making request for Code: 125\n",
      "Making request for Code: 123\n",
      "Making request for Code: 126\n",
      "Making request for Code: 184\n",
      "Making request for Code: 166\n",
      "Making request for Code: 168\n",
      "Making request for Code: 169\n",
      "Making request for Code: 162\n"
     ]
    },
    {
     "data": {
      "text/plain": [
       "[{'Occupation': 'Market Research Analysts and Marketing Specialists',\n",
       "  'Days of prior work experience, mean': '1237.44'},\n",
       " {'Occupation': 'Training and Development Specialists',\n",
       "  'Days of prior work experience, mean': '1298.85'},\n",
       " {'Occupation': 'Compliance Managers',\n",
       "  'Days of prior work experience, mean': '2255.05'},\n",
       " {'Occupation': 'Management Analysts',\n",
       "  'Days of prior work experience, mean': '1677.20'},\n",
       " {'Occupation': 'Cost Estimators',\n",
       "  'Days of prior work experience, mean': '1559.15'},\n",
       " {'Occupation': 'Software Developers, Applications',\n",
       "  'Days of prior work experience, mean': '1756.60'},\n",
       " {'Occupation': 'Database Administrators',\n",
       "  'Days of prior work experience, mean': '1396.52'},\n",
       " {'Occupation': 'Information Security Analysts',\n",
       "  'Days of prior work experience, mean': '1212.28'},\n",
       " {'Occupation': 'Computer Systems Analysts',\n",
       "  'Days of prior work experience, mean': '1720.13'},\n",
       " {'Occupation': 'Computer Programmers',\n",
       "  'Days of prior work experience, mean': '979.54'},\n",
       " {'Occupation': 'Mechanical Engineers',\n",
       "  'Days of prior work experience, mean': '1842.20'},\n",
       " {'Occupation': 'Civil Engineers',\n",
       "  'Days of prior work experience, mean': '1683.19'},\n",
       " {'Occupation': 'Computer Hardware Engineers',\n",
       "  'Days of prior work experience, mean': '1695.60'},\n",
       " {'Occupation': 'Electrical Engineers',\n",
       "  'Days of prior work experience, mean': '2214.24'},\n",
       " {'Occupation': 'Aerospace Engineers',\n",
       "  'Days of prior work experience, mean': '2773.86'}]"
      ]
     },
     "execution_count": 67,
     "metadata": {},
     "output_type": "execute_result"
    }
   ],
   "source": [
    "#These occupation codes correlate to the jobs we are investigation. The codes come from here:https://download.bls.gov/pub/time.series/or/or.occupation\n",
    "occupationcode = [\"092\", \"091\", \"057\", \"087\", \"080\", \"127\", \"130\", \"125\", \"123\", \"126\", \"184\", \"166\", \"168\", \"169\", \"162\"]\n",
    "\n",
    "#put the data i find into a list\n",
    "workexp_data = []\n",
    "\n",
    "#for loop for each occupation code.  Print out the call, then also append the results to my list of dicts\n",
    "for i in range(len(occupationcode)):\n",
    "    print(f\"Making request for Code: {occupationcode[i]}\")\n",
    "    post_response = requests.get(base_url + 'ORUV10000' + occupationcode[i] + '00000108?registrationkey='+\n",
    "                                 api_key + '&catalog=true&startyear=' +startyear + '&endyear=' + endyear +\n",
    "                                 '&calculations=false&annualaverage=false').json()\n",
    "    \n",
    "    \n",
    "\n",
    "\n",
    "    workexp_data.append({\n",
    "        \"Occupation\":post_response[\"Results\"][\"series\"][0][\"catalog\"][\"occupation\"],\n",
    "        \"Days of prior work experience, mean\": post_response[\"Results\"][\"series\"][0][\"data\"][0][\"value\"]\n",
    "        })\n",
    "\n",
    "workexp_data"
   ]
  },
  {
   "cell_type": "code",
   "execution_count": 68,
   "metadata": {},
   "outputs": [
    {
     "data": {
      "text/html": [
       "<div>\n",
       "<style scoped>\n",
       "    .dataframe tbody tr th:only-of-type {\n",
       "        vertical-align: middle;\n",
       "    }\n",
       "\n",
       "    .dataframe tbody tr th {\n",
       "        vertical-align: top;\n",
       "    }\n",
       "\n",
       "    .dataframe thead th {\n",
       "        text-align: right;\n",
       "    }\n",
       "</style>\n",
       "<table border=\"1\" class=\"dataframe\">\n",
       "  <thead>\n",
       "    <tr style=\"text-align: right;\">\n",
       "      <th></th>\n",
       "      <th>Occupation</th>\n",
       "      <th>% Percent with bachelor's degree</th>\n",
       "    </tr>\n",
       "  </thead>\n",
       "  <tbody>\n",
       "    <tr>\n",
       "      <td>0</td>\n",
       "      <td>Market Research Analysts and Marketing Special...</td>\n",
       "      <td>84.8</td>\n",
       "    </tr>\n",
       "    <tr>\n",
       "      <td>1</td>\n",
       "      <td>Training and Development Specialists</td>\n",
       "      <td>70.8</td>\n",
       "    </tr>\n",
       "    <tr>\n",
       "      <td>2</td>\n",
       "      <td>Compliance Managers</td>\n",
       "      <td>57.7</td>\n",
       "    </tr>\n",
       "    <tr>\n",
       "      <td>3</td>\n",
       "      <td>Management Analysts</td>\n",
       "      <td>87.5</td>\n",
       "    </tr>\n",
       "    <tr>\n",
       "      <td>4</td>\n",
       "      <td>Cost Estimators</td>\n",
       "      <td>37.0</td>\n",
       "    </tr>\n",
       "    <tr>\n",
       "      <td>5</td>\n",
       "      <td>Software Developers, Applications</td>\n",
       "      <td>88.6</td>\n",
       "    </tr>\n",
       "    <tr>\n",
       "      <td>6</td>\n",
       "      <td>Database Administrators</td>\n",
       "      <td>89.1</td>\n",
       "    </tr>\n",
       "    <tr>\n",
       "      <td>7</td>\n",
       "      <td>Information Security Analysts</td>\n",
       "      <td>85.7</td>\n",
       "    </tr>\n",
       "    <tr>\n",
       "      <td>8</td>\n",
       "      <td>Computer Systems Analysts</td>\n",
       "      <td>80.1</td>\n",
       "    </tr>\n",
       "    <tr>\n",
       "      <td>9</td>\n",
       "      <td>Computer Programmers</td>\n",
       "      <td>84.2</td>\n",
       "    </tr>\n",
       "    <tr>\n",
       "      <td>10</td>\n",
       "      <td>Mechanical Engineers</td>\n",
       "      <td>90.7</td>\n",
       "    </tr>\n",
       "    <tr>\n",
       "      <td>11</td>\n",
       "      <td>Civil Engineers</td>\n",
       "      <td>97.4</td>\n",
       "    </tr>\n",
       "    <tr>\n",
       "      <td>12</td>\n",
       "      <td>Computer Hardware Engineers</td>\n",
       "      <td>85.1</td>\n",
       "    </tr>\n",
       "    <tr>\n",
       "      <td>13</td>\n",
       "      <td>Electrical Engineers</td>\n",
       "      <td>95.2</td>\n",
       "    </tr>\n",
       "    <tr>\n",
       "      <td>14</td>\n",
       "      <td>Aerospace Engineers</td>\n",
       "      <td>80.7</td>\n",
       "    </tr>\n",
       "  </tbody>\n",
       "</table>\n",
       "</div>"
      ],
      "text/plain": [
       "                                           Occupation  \\\n",
       "0   Market Research Analysts and Marketing Special...   \n",
       "1                Training and Development Specialists   \n",
       "2                                 Compliance Managers   \n",
       "3                                 Management Analysts   \n",
       "4                                     Cost Estimators   \n",
       "5                   Software Developers, Applications   \n",
       "6                             Database Administrators   \n",
       "7                       Information Security Analysts   \n",
       "8                           Computer Systems Analysts   \n",
       "9                                Computer Programmers   \n",
       "10                               Mechanical Engineers   \n",
       "11                                    Civil Engineers   \n",
       "12                        Computer Hardware Engineers   \n",
       "13                               Electrical Engineers   \n",
       "14                                Aerospace Engineers   \n",
       "\n",
       "   % Percent with bachelor's degree  \n",
       "0                              84.8  \n",
       "1                              70.8  \n",
       "2                              57.7  \n",
       "3                              87.5  \n",
       "4                              37.0  \n",
       "5                              88.6  \n",
       "6                              89.1  \n",
       "7                              85.7  \n",
       "8                              80.1  \n",
       "9                              84.2  \n",
       "10                             90.7  \n",
       "11                             97.4  \n",
       "12                             85.1  \n",
       "13                             95.2  \n",
       "14                             80.7  "
      ]
     },
     "execution_count": 68,
     "metadata": {},
     "output_type": "execute_result"
    }
   ],
   "source": [
    "#convert my dictionaries to a dataframe\n",
    "bachelors_df = pd.DataFrame(bachelors_data)\n",
    "bachelors_df"
   ]
  },
  {
   "cell_type": "code",
   "execution_count": 69,
   "metadata": {
    "collapsed": true
   },
   "outputs": [
    {
     "data": {
      "text/plain": [
       "Occupation                          object\n",
       "% Percent with bachelor's degree    object\n",
       "dtype: object"
      ]
     },
     "execution_count": 69,
     "metadata": {},
     "output_type": "execute_result"
    }
   ],
   "source": [
    "#Check the data type\n",
    "bachelors_df.dtypes"
   ]
  },
  {
   "cell_type": "code",
   "execution_count": 70,
   "metadata": {},
   "outputs": [],
   "source": [
    "#convert the data type to numeric for charts\n",
    "bachelors_df[[\"% Percent with bachelor's degree\"]] = bachelors_df[[\"% Percent with bachelor's degree\"]].apply(pd.to_numeric)"
   ]
  },
  {
   "cell_type": "code",
   "execution_count": 71,
   "metadata": {},
   "outputs": [
    {
     "data": {
      "text/plain": [
       "Occupation                           object\n",
       "% Percent with bachelor's degree    float64\n",
       "dtype: object"
      ]
     },
     "execution_count": 71,
     "metadata": {},
     "output_type": "execute_result"
    }
   ],
   "source": [
    "#check again\n",
    "bachelors_df.dtypes"
   ]
  },
  {
   "cell_type": "code",
   "execution_count": 72,
   "metadata": {},
   "outputs": [
    {
     "data": {
      "text/html": [
       "<div>\n",
       "<style scoped>\n",
       "    .dataframe tbody tr th:only-of-type {\n",
       "        vertical-align: middle;\n",
       "    }\n",
       "\n",
       "    .dataframe tbody tr th {\n",
       "        vertical-align: top;\n",
       "    }\n",
       "\n",
       "    .dataframe thead th {\n",
       "        text-align: right;\n",
       "    }\n",
       "</style>\n",
       "<table border=\"1\" class=\"dataframe\">\n",
       "  <thead>\n",
       "    <tr style=\"text-align: right;\">\n",
       "      <th></th>\n",
       "      <th>Occupation</th>\n",
       "      <th>Days of prior work experience, mean</th>\n",
       "    </tr>\n",
       "  </thead>\n",
       "  <tbody>\n",
       "    <tr>\n",
       "      <td>0</td>\n",
       "      <td>Market Research Analysts and Marketing Special...</td>\n",
       "      <td>1237.44</td>\n",
       "    </tr>\n",
       "    <tr>\n",
       "      <td>1</td>\n",
       "      <td>Training and Development Specialists</td>\n",
       "      <td>1298.85</td>\n",
       "    </tr>\n",
       "    <tr>\n",
       "      <td>2</td>\n",
       "      <td>Compliance Managers</td>\n",
       "      <td>2255.05</td>\n",
       "    </tr>\n",
       "    <tr>\n",
       "      <td>3</td>\n",
       "      <td>Management Analysts</td>\n",
       "      <td>1677.20</td>\n",
       "    </tr>\n",
       "    <tr>\n",
       "      <td>4</td>\n",
       "      <td>Cost Estimators</td>\n",
       "      <td>1559.15</td>\n",
       "    </tr>\n",
       "    <tr>\n",
       "      <td>5</td>\n",
       "      <td>Software Developers, Applications</td>\n",
       "      <td>1756.60</td>\n",
       "    </tr>\n",
       "    <tr>\n",
       "      <td>6</td>\n",
       "      <td>Database Administrators</td>\n",
       "      <td>1396.52</td>\n",
       "    </tr>\n",
       "    <tr>\n",
       "      <td>7</td>\n",
       "      <td>Information Security Analysts</td>\n",
       "      <td>1212.28</td>\n",
       "    </tr>\n",
       "    <tr>\n",
       "      <td>8</td>\n",
       "      <td>Computer Systems Analysts</td>\n",
       "      <td>1720.13</td>\n",
       "    </tr>\n",
       "    <tr>\n",
       "      <td>9</td>\n",
       "      <td>Computer Programmers</td>\n",
       "      <td>979.54</td>\n",
       "    </tr>\n",
       "    <tr>\n",
       "      <td>10</td>\n",
       "      <td>Mechanical Engineers</td>\n",
       "      <td>1842.20</td>\n",
       "    </tr>\n",
       "    <tr>\n",
       "      <td>11</td>\n",
       "      <td>Civil Engineers</td>\n",
       "      <td>1683.19</td>\n",
       "    </tr>\n",
       "    <tr>\n",
       "      <td>12</td>\n",
       "      <td>Computer Hardware Engineers</td>\n",
       "      <td>1695.60</td>\n",
       "    </tr>\n",
       "    <tr>\n",
       "      <td>13</td>\n",
       "      <td>Electrical Engineers</td>\n",
       "      <td>2214.24</td>\n",
       "    </tr>\n",
       "    <tr>\n",
       "      <td>14</td>\n",
       "      <td>Aerospace Engineers</td>\n",
       "      <td>2773.86</td>\n",
       "    </tr>\n",
       "  </tbody>\n",
       "</table>\n",
       "</div>"
      ],
      "text/plain": [
       "                                           Occupation  \\\n",
       "0   Market Research Analysts and Marketing Special...   \n",
       "1                Training and Development Specialists   \n",
       "2                                 Compliance Managers   \n",
       "3                                 Management Analysts   \n",
       "4                                     Cost Estimators   \n",
       "5                   Software Developers, Applications   \n",
       "6                             Database Administrators   \n",
       "7                       Information Security Analysts   \n",
       "8                           Computer Systems Analysts   \n",
       "9                                Computer Programmers   \n",
       "10                               Mechanical Engineers   \n",
       "11                                    Civil Engineers   \n",
       "12                        Computer Hardware Engineers   \n",
       "13                               Electrical Engineers   \n",
       "14                                Aerospace Engineers   \n",
       "\n",
       "   Days of prior work experience, mean  \n",
       "0                              1237.44  \n",
       "1                              1298.85  \n",
       "2                              2255.05  \n",
       "3                              1677.20  \n",
       "4                              1559.15  \n",
       "5                              1756.60  \n",
       "6                              1396.52  \n",
       "7                              1212.28  \n",
       "8                              1720.13  \n",
       "9                               979.54  \n",
       "10                             1842.20  \n",
       "11                             1683.19  \n",
       "12                             1695.60  \n",
       "13                             2214.24  \n",
       "14                             2773.86  "
      ]
     },
     "execution_count": 72,
     "metadata": {},
     "output_type": "execute_result"
    }
   ],
   "source": [
    "#convert my dicts into a dataframe\n",
    "workexp_df = pd.DataFrame(workexp_data)\n",
    "workexp_df"
   ]
  },
  {
   "cell_type": "code",
   "execution_count": 73,
   "metadata": {},
   "outputs": [],
   "source": [
    "#convert the days value I obtained to years, for charting purposes\n",
    "workexp_df[\"Years of Prior work experience\"] = (workexp_df[\"Days of prior work experience, mean\"]).astype(float)/365"
   ]
  },
  {
   "cell_type": "code",
   "execution_count": 74,
   "metadata": {},
   "outputs": [
    {
     "data": {
      "text/html": [
       "<div>\n",
       "<style scoped>\n",
       "    .dataframe tbody tr th:only-of-type {\n",
       "        vertical-align: middle;\n",
       "    }\n",
       "\n",
       "    .dataframe tbody tr th {\n",
       "        vertical-align: top;\n",
       "    }\n",
       "\n",
       "    .dataframe thead th {\n",
       "        text-align: right;\n",
       "    }\n",
       "</style>\n",
       "<table border=\"1\" class=\"dataframe\">\n",
       "  <thead>\n",
       "    <tr style=\"text-align: right;\">\n",
       "      <th></th>\n",
       "      <th>Occupation</th>\n",
       "      <th>Days of prior work experience, mean</th>\n",
       "      <th>Years of Prior work experience</th>\n",
       "    </tr>\n",
       "  </thead>\n",
       "  <tbody>\n",
       "    <tr>\n",
       "      <td>0</td>\n",
       "      <td>Market Research Analysts and Marketing Special...</td>\n",
       "      <td>1237.44</td>\n",
       "      <td>3.390247</td>\n",
       "    </tr>\n",
       "    <tr>\n",
       "      <td>1</td>\n",
       "      <td>Training and Development Specialists</td>\n",
       "      <td>1298.85</td>\n",
       "      <td>3.558493</td>\n",
       "    </tr>\n",
       "    <tr>\n",
       "      <td>2</td>\n",
       "      <td>Compliance Managers</td>\n",
       "      <td>2255.05</td>\n",
       "      <td>6.178219</td>\n",
       "    </tr>\n",
       "    <tr>\n",
       "      <td>3</td>\n",
       "      <td>Management Analysts</td>\n",
       "      <td>1677.20</td>\n",
       "      <td>4.595068</td>\n",
       "    </tr>\n",
       "    <tr>\n",
       "      <td>4</td>\n",
       "      <td>Cost Estimators</td>\n",
       "      <td>1559.15</td>\n",
       "      <td>4.271644</td>\n",
       "    </tr>\n",
       "    <tr>\n",
       "      <td>5</td>\n",
       "      <td>Software Developers, Applications</td>\n",
       "      <td>1756.60</td>\n",
       "      <td>4.812603</td>\n",
       "    </tr>\n",
       "    <tr>\n",
       "      <td>6</td>\n",
       "      <td>Database Administrators</td>\n",
       "      <td>1396.52</td>\n",
       "      <td>3.826082</td>\n",
       "    </tr>\n",
       "    <tr>\n",
       "      <td>7</td>\n",
       "      <td>Information Security Analysts</td>\n",
       "      <td>1212.28</td>\n",
       "      <td>3.321315</td>\n",
       "    </tr>\n",
       "    <tr>\n",
       "      <td>8</td>\n",
       "      <td>Computer Systems Analysts</td>\n",
       "      <td>1720.13</td>\n",
       "      <td>4.712685</td>\n",
       "    </tr>\n",
       "    <tr>\n",
       "      <td>9</td>\n",
       "      <td>Computer Programmers</td>\n",
       "      <td>979.54</td>\n",
       "      <td>2.683671</td>\n",
       "    </tr>\n",
       "    <tr>\n",
       "      <td>10</td>\n",
       "      <td>Mechanical Engineers</td>\n",
       "      <td>1842.20</td>\n",
       "      <td>5.047123</td>\n",
       "    </tr>\n",
       "    <tr>\n",
       "      <td>11</td>\n",
       "      <td>Civil Engineers</td>\n",
       "      <td>1683.19</td>\n",
       "      <td>4.611479</td>\n",
       "    </tr>\n",
       "    <tr>\n",
       "      <td>12</td>\n",
       "      <td>Computer Hardware Engineers</td>\n",
       "      <td>1695.60</td>\n",
       "      <td>4.645479</td>\n",
       "    </tr>\n",
       "    <tr>\n",
       "      <td>13</td>\n",
       "      <td>Electrical Engineers</td>\n",
       "      <td>2214.24</td>\n",
       "      <td>6.066411</td>\n",
       "    </tr>\n",
       "    <tr>\n",
       "      <td>14</td>\n",
       "      <td>Aerospace Engineers</td>\n",
       "      <td>2773.86</td>\n",
       "      <td>7.599616</td>\n",
       "    </tr>\n",
       "  </tbody>\n",
       "</table>\n",
       "</div>"
      ],
      "text/plain": [
       "                                           Occupation  \\\n",
       "0   Market Research Analysts and Marketing Special...   \n",
       "1                Training and Development Specialists   \n",
       "2                                 Compliance Managers   \n",
       "3                                 Management Analysts   \n",
       "4                                     Cost Estimators   \n",
       "5                   Software Developers, Applications   \n",
       "6                             Database Administrators   \n",
       "7                       Information Security Analysts   \n",
       "8                           Computer Systems Analysts   \n",
       "9                                Computer Programmers   \n",
       "10                               Mechanical Engineers   \n",
       "11                                    Civil Engineers   \n",
       "12                        Computer Hardware Engineers   \n",
       "13                               Electrical Engineers   \n",
       "14                                Aerospace Engineers   \n",
       "\n",
       "   Days of prior work experience, mean  Years of Prior work experience  \n",
       "0                              1237.44                        3.390247  \n",
       "1                              1298.85                        3.558493  \n",
       "2                              2255.05                        6.178219  \n",
       "3                              1677.20                        4.595068  \n",
       "4                              1559.15                        4.271644  \n",
       "5                              1756.60                        4.812603  \n",
       "6                              1396.52                        3.826082  \n",
       "7                              1212.28                        3.321315  \n",
       "8                              1720.13                        4.712685  \n",
       "9                               979.54                        2.683671  \n",
       "10                             1842.20                        5.047123  \n",
       "11                             1683.19                        4.611479  \n",
       "12                             1695.60                        4.645479  \n",
       "13                             2214.24                        6.066411  \n",
       "14                             2773.86                        7.599616  "
      ]
     },
     "execution_count": 74,
     "metadata": {},
     "output_type": "execute_result"
    }
   ],
   "source": [
    "workexp_df"
   ]
  },
  {
   "cell_type": "code",
   "execution_count": 75,
   "metadata": {},
   "outputs": [
    {
     "data": {
      "text/plain": [
       "Occupation                              object\n",
       "Days of prior work experience, mean     object\n",
       "Years of Prior work experience         float64\n",
       "dtype: object"
      ]
     },
     "execution_count": 75,
     "metadata": {},
     "output_type": "execute_result"
    }
   ],
   "source": [
    "#check data types\n",
    "workexp_df.dtypes"
   ]
  },
  {
   "cell_type": "code",
   "execution_count": 76,
   "metadata": {},
   "outputs": [
    {
     "data": {
      "image/png": "[encoded data removed]",
      "text/plain": [
       "<Figure size 432x288 with 1 Axes>"
      ]
     },
     "metadata": {
      "needs_background": "light"
     },
     "output_type": "display_data"
    }
   ],
   "source": [
    "#put all values into a variable just to see how all the data looks\n",
    "bachvals = bachelors_df[\"% Percent with bachelor's degree\"].astype(float)\n",
    "occ = bachelors_df[\"Occupation\"]\n",
    "\n",
    "fig, ax = plt.subplots()\n",
    "ax.barh (occ, width = bachvals);\n",
    "ax.set_title(\"Percentage with Bachelor's Degree\");"
   ]
  },
  {
   "cell_type": "code",
   "execution_count": 77,
   "metadata": {},
   "outputs": [
    {
     "data": {
      "image/png": "[encoded data removed]",
      "text/plain": [
       "<Figure size 432x288 with 1 Axes>"
      ]
     },
     "metadata": {
      "needs_background": "light"
     },
     "output_type": "display_data"
    }
   ],
   "source": [
    "#put all values into a variable just to see how all the data looks\n",
    "work = workexp_df[\"Years of Prior work experience\"]\n",
    "occ = workexp_df[\"Occupation\"]\n",
    "\n",
    "fig, ax = plt.subplots()\n",
    "ax.barh(occ, width = work);\n",
    "ax.set_title(\"Years of Prior Experience\");\n"
   ]
  },
  {
   "cell_type": "code",
   "execution_count": 153,
   "metadata": {},
   "outputs": [],
   "source": [
    "#split up the dataframe into the groups: business operations, bachelors degree\n",
    "bachdfbus = bachelors_df.iloc[0:5]"
   ]
  },
  {
   "cell_type": "code",
   "execution_count": 154,
   "metadata": {},
   "outputs": [
    {
     "data": {
      "text/html": [
       "<div>\n",
       "<style scoped>\n",
       "    .dataframe tbody tr th:only-of-type {\n",
       "        vertical-align: middle;\n",
       "    }\n",
       "\n",
       "    .dataframe tbody tr th {\n",
       "        vertical-align: top;\n",
       "    }\n",
       "\n",
       "    .dataframe thead th {\n",
       "        text-align: right;\n",
       "    }\n",
       "</style>\n",
       "<table border=\"1\" class=\"dataframe\">\n",
       "  <thead>\n",
       "    <tr style=\"text-align: right;\">\n",
       "      <th></th>\n",
       "      <th>Occupation</th>\n",
       "      <th>% Percent with bachelor's degree</th>\n",
       "    </tr>\n",
       "  </thead>\n",
       "  <tbody>\n",
       "    <tr>\n",
       "      <td>0</td>\n",
       "      <td>Market Research Analysts and Marketing Special...</td>\n",
       "      <td>84.8</td>\n",
       "    </tr>\n",
       "    <tr>\n",
       "      <td>1</td>\n",
       "      <td>Training and Development Specialists</td>\n",
       "      <td>70.8</td>\n",
       "    </tr>\n",
       "    <tr>\n",
       "      <td>2</td>\n",
       "      <td>Compliance Managers</td>\n",
       "      <td>57.7</td>\n",
       "    </tr>\n",
       "    <tr>\n",
       "      <td>3</td>\n",
       "      <td>Management Analysts</td>\n",
       "      <td>87.5</td>\n",
       "    </tr>\n",
       "    <tr>\n",
       "      <td>4</td>\n",
       "      <td>Cost Estimators</td>\n",
       "      <td>37.0</td>\n",
       "    </tr>\n",
       "  </tbody>\n",
       "</table>\n",
       "</div>"
      ],
      "text/plain": [
       "                                          Occupation  \\\n",
       "0  Market Research Analysts and Marketing Special...   \n",
       "1               Training and Development Specialists   \n",
       "2                                Compliance Managers   \n",
       "3                                Management Analysts   \n",
       "4                                    Cost Estimators   \n",
       "\n",
       "   % Percent with bachelor's degree  \n",
       "0                              84.8  \n",
       "1                              70.8  \n",
       "2                              57.7  \n",
       "3                              87.5  \n",
       "4                              37.0  "
      ]
     },
     "execution_count": 154,
     "metadata": {},
     "output_type": "execute_result"
    }
   ],
   "source": [
    "bachdfbus"
   ]
  },
  {
   "cell_type": "code",
   "execution_count": 156,
   "metadata": {},
   "outputs": [],
   "source": [
    "#split up the dataframe into the groups: computer occupations, bachelors degree\n",
    "bachdfcomp = bachelors_df.iloc[5:10]"
   ]
  },
  {
   "cell_type": "code",
   "execution_count": 157,
   "metadata": {},
   "outputs": [
    {
     "data": {
      "text/html": [
       "<div>\n",
       "<style scoped>\n",
       "    .dataframe tbody tr th:only-of-type {\n",
       "        vertical-align: middle;\n",
       "    }\n",
       "\n",
       "    .dataframe tbody tr th {\n",
       "        vertical-align: top;\n",
       "    }\n",
       "\n",
       "    .dataframe thead th {\n",
       "        text-align: right;\n",
       "    }\n",
       "</style>\n",
       "<table border=\"1\" class=\"dataframe\">\n",
       "  <thead>\n",
       "    <tr style=\"text-align: right;\">\n",
       "      <th></th>\n",
       "      <th>Occupation</th>\n",
       "      <th>% Percent with bachelor's degree</th>\n",
       "    </tr>\n",
       "  </thead>\n",
       "  <tbody>\n",
       "    <tr>\n",
       "      <td>5</td>\n",
       "      <td>Software Developers, Applications</td>\n",
       "      <td>88.6</td>\n",
       "    </tr>\n",
       "    <tr>\n",
       "      <td>6</td>\n",
       "      <td>Database Administrators</td>\n",
       "      <td>89.1</td>\n",
       "    </tr>\n",
       "    <tr>\n",
       "      <td>7</td>\n",
       "      <td>Information Security Analysts</td>\n",
       "      <td>85.7</td>\n",
       "    </tr>\n",
       "    <tr>\n",
       "      <td>8</td>\n",
       "      <td>Computer Systems Analysts</td>\n",
       "      <td>80.1</td>\n",
       "    </tr>\n",
       "    <tr>\n",
       "      <td>9</td>\n",
       "      <td>Computer Programmers</td>\n",
       "      <td>84.2</td>\n",
       "    </tr>\n",
       "  </tbody>\n",
       "</table>\n",
       "</div>"
      ],
      "text/plain": [
       "                          Occupation  % Percent with bachelor's degree\n",
       "5  Software Developers, Applications                              88.6\n",
       "6            Database Administrators                              89.1\n",
       "7      Information Security Analysts                              85.7\n",
       "8          Computer Systems Analysts                              80.1\n",
       "9               Computer Programmers                              84.2"
      ]
     },
     "execution_count": 157,
     "metadata": {},
     "output_type": "execute_result"
    }
   ],
   "source": [
    "bachdfcomp"
   ]
  },
  {
   "cell_type": "code",
   "execution_count": 159,
   "metadata": {},
   "outputs": [],
   "source": [
    "#split up the dataframe into the groups: engineering, bachelors degree\n",
    "bachdfeng = bachelors_df.iloc[10:15]"
   ]
  },
  {
   "cell_type": "code",
   "execution_count": 160,
   "metadata": {},
   "outputs": [
    {
     "data": {
      "text/html": [
       "<div>\n",
       "<style scoped>\n",
       "    .dataframe tbody tr th:only-of-type {\n",
       "        vertical-align: middle;\n",
       "    }\n",
       "\n",
       "    .dataframe tbody tr th {\n",
       "        vertical-align: top;\n",
       "    }\n",
       "\n",
       "    .dataframe thead th {\n",
       "        text-align: right;\n",
       "    }\n",
       "</style>\n",
       "<table border=\"1\" class=\"dataframe\">\n",
       "  <thead>\n",
       "    <tr style=\"text-align: right;\">\n",
       "      <th></th>\n",
       "      <th>Occupation</th>\n",
       "      <th>% Percent with bachelor's degree</th>\n",
       "    </tr>\n",
       "  </thead>\n",
       "  <tbody>\n",
       "    <tr>\n",
       "      <td>10</td>\n",
       "      <td>Mechanical Engineers</td>\n",
       "      <td>90.7</td>\n",
       "    </tr>\n",
       "    <tr>\n",
       "      <td>11</td>\n",
       "      <td>Civil Engineers</td>\n",
       "      <td>97.4</td>\n",
       "    </tr>\n",
       "    <tr>\n",
       "      <td>12</td>\n",
       "      <td>Computer Hardware Engineers</td>\n",
       "      <td>85.1</td>\n",
       "    </tr>\n",
       "    <tr>\n",
       "      <td>13</td>\n",
       "      <td>Electrical Engineers</td>\n",
       "      <td>95.2</td>\n",
       "    </tr>\n",
       "    <tr>\n",
       "      <td>14</td>\n",
       "      <td>Aerospace Engineers</td>\n",
       "      <td>80.7</td>\n",
       "    </tr>\n",
       "  </tbody>\n",
       "</table>\n",
       "</div>"
      ],
      "text/plain": [
       "                     Occupation  % Percent with bachelor's degree\n",
       "10         Mechanical Engineers                              90.7\n",
       "11              Civil Engineers                              97.4\n",
       "12  Computer Hardware Engineers                              85.1\n",
       "13         Electrical Engineers                              95.2\n",
       "14          Aerospace Engineers                              80.7"
      ]
     },
     "execution_count": 160,
     "metadata": {},
     "output_type": "execute_result"
    }
   ],
   "source": [
    "bachdfeng"
   ]
  },
  {
   "cell_type": "code",
   "execution_count": 162,
   "metadata": {},
   "outputs": [],
   "source": [
    "#split up the dataframe into the groups: business operations, work experience\n",
    "workdfbus = workexp_df.iloc[0:5]"
   ]
  },
  {
   "cell_type": "code",
   "execution_count": 163,
   "metadata": {},
   "outputs": [
    {
     "data": {
      "text/html": [
       "<div>\n",
       "<style scoped>\n",
       "    .dataframe tbody tr th:only-of-type {\n",
       "        vertical-align: middle;\n",
       "    }\n",
       "\n",
       "    .dataframe tbody tr th {\n",
       "        vertical-align: top;\n",
       "    }\n",
       "\n",
       "    .dataframe thead th {\n",
       "        text-align: right;\n",
       "    }\n",
       "</style>\n",
       "<table border=\"1\" class=\"dataframe\">\n",
       "  <thead>\n",
       "    <tr style=\"text-align: right;\">\n",
       "      <th></th>\n",
       "      <th>Occupation</th>\n",
       "      <th>Days of prior work experience, mean</th>\n",
       "      <th>Years of Prior work experience</th>\n",
       "    </tr>\n",
       "  </thead>\n",
       "  <tbody>\n",
       "    <tr>\n",
       "      <td>0</td>\n",
       "      <td>Market Research Analysts and Marketing Special...</td>\n",
       "      <td>1237.44</td>\n",
       "      <td>3.390247</td>\n",
       "    </tr>\n",
       "    <tr>\n",
       "      <td>1</td>\n",
       "      <td>Training and Development Specialists</td>\n",
       "      <td>1298.85</td>\n",
       "      <td>3.558493</td>\n",
       "    </tr>\n",
       "    <tr>\n",
       "      <td>2</td>\n",
       "      <td>Compliance Managers</td>\n",
       "      <td>2255.05</td>\n",
       "      <td>6.178219</td>\n",
       "    </tr>\n",
       "    <tr>\n",
       "      <td>3</td>\n",
       "      <td>Management Analysts</td>\n",
       "      <td>1677.20</td>\n",
       "      <td>4.595068</td>\n",
       "    </tr>\n",
       "    <tr>\n",
       "      <td>4</td>\n",
       "      <td>Cost Estimators</td>\n",
       "      <td>1559.15</td>\n",
       "      <td>4.271644</td>\n",
       "    </tr>\n",
       "  </tbody>\n",
       "</table>\n",
       "</div>"
      ],
      "text/plain": [
       "                                          Occupation  \\\n",
       "0  Market Research Analysts and Marketing Special...   \n",
       "1               Training and Development Specialists   \n",
       "2                                Compliance Managers   \n",
       "3                                Management Analysts   \n",
       "4                                    Cost Estimators   \n",
       "\n",
       "  Days of prior work experience, mean  Years of Prior work experience  \n",
       "0                             1237.44                        3.390247  \n",
       "1                             1298.85                        3.558493  \n",
       "2                             2255.05                        6.178219  \n",
       "3                             1677.20                        4.595068  \n",
       "4                             1559.15                        4.271644  "
      ]
     },
     "execution_count": 163,
     "metadata": {},
     "output_type": "execute_result"
    }
   ],
   "source": [
    "workdfbus"
   ]
  },
  {
   "cell_type": "code",
   "execution_count": 164,
   "metadata": {},
   "outputs": [],
   "source": [
    "#split up the dataframe into the groups: computer occupations, work experience\n",
    "workdfcomp = workexp_df.iloc[5:10]"
   ]
  },
  {
   "cell_type": "code",
   "execution_count": 165,
   "metadata": {},
   "outputs": [
    {
     "data": {
      "text/html": [
       "<div>\n",
       "<style scoped>\n",
       "    .dataframe tbody tr th:only-of-type {\n",
       "        vertical-align: middle;\n",
       "    }\n",
       "\n",
       "    .dataframe tbody tr th {\n",
       "        vertical-align: top;\n",
       "    }\n",
       "\n",
       "    .dataframe thead th {\n",
       "        text-align: right;\n",
       "    }\n",
       "</style>\n",
       "<table border=\"1\" class=\"dataframe\">\n",
       "  <thead>\n",
       "    <tr style=\"text-align: right;\">\n",
       "      <th></th>\n",
       "      <th>Occupation</th>\n",
       "      <th>Days of prior work experience, mean</th>\n",
       "      <th>Years of Prior work experience</th>\n",
       "    </tr>\n",
       "  </thead>\n",
       "  <tbody>\n",
       "    <tr>\n",
       "      <td>5</td>\n",
       "      <td>Software Developers, Applications</td>\n",
       "      <td>1756.60</td>\n",
       "      <td>4.812603</td>\n",
       "    </tr>\n",
       "    <tr>\n",
       "      <td>6</td>\n",
       "      <td>Database Administrators</td>\n",
       "      <td>1396.52</td>\n",
       "      <td>3.826082</td>\n",
       "    </tr>\n",
       "    <tr>\n",
       "      <td>7</td>\n",
       "      <td>Information Security Analysts</td>\n",
       "      <td>1212.28</td>\n",
       "      <td>3.321315</td>\n",
       "    </tr>\n",
       "    <tr>\n",
       "      <td>8</td>\n",
       "      <td>Computer Systems Analysts</td>\n",
       "      <td>1720.13</td>\n",
       "      <td>4.712685</td>\n",
       "    </tr>\n",
       "    <tr>\n",
       "      <td>9</td>\n",
       "      <td>Computer Programmers</td>\n",
       "      <td>979.54</td>\n",
       "      <td>2.683671</td>\n",
       "    </tr>\n",
       "  </tbody>\n",
       "</table>\n",
       "</div>"
      ],
      "text/plain": [
       "                          Occupation Days of prior work experience, mean  \\\n",
       "5  Software Developers, Applications                             1756.60   \n",
       "6            Database Administrators                             1396.52   \n",
       "7      Information Security Analysts                             1212.28   \n",
       "8          Computer Systems Analysts                             1720.13   \n",
       "9               Computer Programmers                              979.54   \n",
       "\n",
       "   Years of Prior work experience  \n",
       "5                        4.812603  \n",
       "6                        3.826082  \n",
       "7                        3.321315  \n",
       "8                        4.712685  \n",
       "9                        2.683671  "
      ]
     },
     "execution_count": 165,
     "metadata": {},
     "output_type": "execute_result"
    }
   ],
   "source": [
    "workdfcomp"
   ]
  },
  {
   "cell_type": "code",
   "execution_count": 166,
   "metadata": {},
   "outputs": [],
   "source": [
    "#split up the dataframe into the groups: engineering, work experience\n",
    "workdfeng = workexp_df.iloc[10:15]"
   ]
  },
  {
   "cell_type": "code",
   "execution_count": 167,
   "metadata": {},
   "outputs": [
    {
     "data": {
      "text/html": [
       "<div>\n",
       "<style scoped>\n",
       "    .dataframe tbody tr th:only-of-type {\n",
       "        vertical-align: middle;\n",
       "    }\n",
       "\n",
       "    .dataframe tbody tr th {\n",
       "        vertical-align: top;\n",
       "    }\n",
       "\n",
       "    .dataframe thead th {\n",
       "        text-align: right;\n",
       "    }\n",
       "</style>\n",
       "<table border=\"1\" class=\"dataframe\">\n",
       "  <thead>\n",
       "    <tr style=\"text-align: right;\">\n",
       "      <th></th>\n",
       "      <th>Occupation</th>\n",
       "      <th>Days of prior work experience, mean</th>\n",
       "      <th>Years of Prior work experience</th>\n",
       "    </tr>\n",
       "  </thead>\n",
       "  <tbody>\n",
       "    <tr>\n",
       "      <td>10</td>\n",
       "      <td>Mechanical Engineers</td>\n",
       "      <td>1842.20</td>\n",
       "      <td>5.047123</td>\n",
       "    </tr>\n",
       "    <tr>\n",
       "      <td>11</td>\n",
       "      <td>Civil Engineers</td>\n",
       "      <td>1683.19</td>\n",
       "      <td>4.611479</td>\n",
       "    </tr>\n",
       "    <tr>\n",
       "      <td>12</td>\n",
       "      <td>Computer Hardware Engineers</td>\n",
       "      <td>1695.60</td>\n",
       "      <td>4.645479</td>\n",
       "    </tr>\n",
       "    <tr>\n",
       "      <td>13</td>\n",
       "      <td>Electrical Engineers</td>\n",
       "      <td>2214.24</td>\n",
       "      <td>6.066411</td>\n",
       "    </tr>\n",
       "    <tr>\n",
       "      <td>14</td>\n",
       "      <td>Aerospace Engineers</td>\n",
       "      <td>2773.86</td>\n",
       "      <td>7.599616</td>\n",
       "    </tr>\n",
       "  </tbody>\n",
       "</table>\n",
       "</div>"
      ],
      "text/plain": [
       "                     Occupation Days of prior work experience, mean  \\\n",
       "10         Mechanical Engineers                             1842.20   \n",
       "11              Civil Engineers                             1683.19   \n",
       "12  Computer Hardware Engineers                             1695.60   \n",
       "13         Electrical Engineers                             2214.24   \n",
       "14          Aerospace Engineers                             2773.86   \n",
       "\n",
       "    Years of Prior work experience  \n",
       "10                        5.047123  \n",
       "11                        4.611479  \n",
       "12                        4.645479  \n",
       "13                        6.066411  \n",
       "14                        7.599616  "
      ]
     },
     "execution_count": 167,
     "metadata": {},
     "output_type": "execute_result"
    }
   ],
   "source": [
    "workdfeng"
   ]
  },
  {
   "cell_type": "code",
   "execution_count": null,
   "metadata": {},
   "outputs": [],
   "source": []
  },
  {
   "cell_type": "code",
   "execution_count": 183,
   "metadata": {},
   "outputs": [
    {
     "data": {
      "image/png": "[encoded data removed]",
      "text/plain": [
       "<Figure size 432x288 with 1 Axes>"
      ]
     },
     "metadata": {
      "needs_background": "light"
     },
     "output_type": "display_data"
    }
   ],
   "source": [
    "#put the datapoints in variables and chart\n",
    "bachbusvals = bachdfbus[\"% Percent with bachelor's degree\"]\n",
    "occbus = bachdfbus[\"Occupation\"]\n",
    "\n",
    "fig, ax = plt.subplots()\n",
    "ax.barh (occbus, width = bachbusvals, color = [\"#89B5AE\", \"#4D9D90\",\"#4D9D80\",\"#4D9D69\",\"#4D9D5B\"] );\n",
    "ax.set_title(\"Percentage with Bachelor's Degree: Business Operations Specialists\");\n",
    "ax.set_ylabel(\"Occupations\");\n",
    "ax.set_xlabel(\"Percentage (%)\");\n",
    "fig.savefig(\"bachbus.png\", bbox_inches = 'tight')"
   ]
  },
  {
   "cell_type": "code",
   "execution_count": 185,
   "metadata": {},
   "outputs": [
    {
     "data": {
      "image/png": "[encoded data removed]",
      "text/plain": [
       "<Figure size 432x288 with 1 Axes>"
      ]
     },
     "metadata": {
      "needs_background": "light"
     },
     "output_type": "display_data"
    }
   ],
   "source": [
    "#put the datapoints in variables and chart\n",
    "bachcompvals = bachdfcomp[\"% Percent with bachelor's degree\"]\n",
    "occcomp = bachdfcomp[\"Occupation\"]\n",
    "\n",
    "fig, ax = plt.subplots()\n",
    "ax.barh (occcomp, width = bachcompvals, color = [\"#89B5AE\", \"#4D9D90\",\"#4D9D80\",\"#4D9D69\",\"#4D9D5B\"]);\n",
    "ax.set_title(\"Percentage with Bachelor's Degree: Computer Occupations\");\n",
    "ax.set_ylabel(\"Occupations\");\n",
    "ax.set_xlabel(\"Percentage (%)\");\n",
    "ax.set_xlim([70,90]);\n",
    "fig.savefig(\"bachcomp.png\", bbox_inches = 'tight')"
   ]
  },
  {
   "cell_type": "code",
   "execution_count": 186,
   "metadata": {},
   "outputs": [
    {
     "data": {
      "image/png": "[encoded data removed]",
      "text/plain": [
       "<Figure size 432x288 with 1 Axes>"
      ]
     },
     "metadata": {
      "needs_background": "light"
     },
     "output_type": "display_data"
    }
   ],
   "source": [
    "#put the datapoints in variables and chart\n",
    "bachengvals = bachdfeng[\"% Percent with bachelor's degree\"]\n",
    "occeng = bachdfeng[\"Occupation\"]\n",
    "\n",
    "fig, ax = plt.subplots()\n",
    "ax.barh (occeng, width = bachengvals, color = [\"#89B5AE\", \"#4D9D90\",\"#4D9D80\",\"#4D9D69\",\"#4D9D5B\"]);\n",
    "ax.set_title(\"Percentage with Bachelor's Degree: Engineers\");\n",
    "ax.set_ylabel(\"Occupations\");\n",
    "ax.set_xlabel(\"Percentage (%)\");\n",
    "ax.set_xlim([70,100]);\n",
    "fig.savefig(\"bacheng.png\", bbox_inches = 'tight')"
   ]
  },
  {
   "cell_type": "code",
   "execution_count": 190,
   "metadata": {},
   "outputs": [
    {
     "data": {
      "image/png": "[encoded data removed]",
      "text/plain": [
       "<Figure size 432x288 with 1 Axes>"
      ]
     },
     "metadata": {
      "needs_background": "light"
     },
     "output_type": "display_data"
    }
   ],
   "source": [
    "#put the datapoints in variables and chart\n",
    "workbus = workdfbus[\"Years of Prior work experience\"]\n",
    "occwbus = workdfbus[\"Occupation\"]\n",
    "\n",
    "fig, ax = plt.subplots()\n",
    "ax.barh(occwbus, width = workbus, color = [\"#89B5AE\", \"#4D9D90\",\"#4D9D80\",\"#4D9D69\",\"#4D9D5B\"]);\n",
    "ax.set_title(\"Years of Prior Experience: Business Operations Specialists\");\n",
    "ax.set_ylabel(\"Occupations\");\n",
    "ax.set_xlabel(\"Years\");\n",
    "fig.savefig(\"workbus.png\", bbox_inches = 'tight')"
   ]
  },
  {
   "cell_type": "code",
   "execution_count": 191,
   "metadata": {},
   "outputs": [
    {
     "data": {
      "image/png": "[encoded data removed]",
      "text/plain": [
       "<Figure size 432x288 with 1 Axes>"
      ]
     },
     "metadata": {
      "needs_background": "light"
     },
     "output_type": "display_data"
    }
   ],
   "source": [
    "#put the datapoints in variables and chart\n",
    "workcomp = workdfcomp[\"Years of Prior work experience\"]\n",
    "occwcomp = workdfcomp[\"Occupation\"]\n",
    "\n",
    "fig, ax = plt.subplots()\n",
    "ax.barh(occwcomp, width = workcomp, color = [\"#89B5AE\", \"#4D9D90\",\"#4D9D80\",\"#4D9D69\",\"#4D9D5B\"]);\n",
    "ax.set_title(\"Years of Prior Experience: Computer Occupations\");\n",
    "ax.set_ylabel(\"Occupations\");\n",
    "ax.set_xlabel(\"Years\");\n",
    "fig.savefig(\"workcomp.png\", bbox_inches = 'tight')"
   ]
  },
  {
   "cell_type": "code",
   "execution_count": 192,
   "metadata": {},
   "outputs": [
    {
     "data": {
      "image/png": "[encoded data removed]",
      "text/plain": [
       "<Figure size 432x288 with 1 Axes>"
      ]
     },
     "metadata": {
      "needs_background": "light"
     },
     "output_type": "display_data"
    }
   ],
   "source": [
    "#put the datapoints in variables and chart\n",
    "workeng = workdfeng[\"Years of Prior work experience\"]\n",
    "occweng = workdfeng[\"Occupation\"]\n",
    "\n",
    "fig, ax = plt.subplots()\n",
    "ax.barh(occweng, width = workeng, color = [\"#89B5AE\", \"#4D9D90\",\"#4D9D80\",\"#4D9D69\",\"#4D9D5B\"]);\n",
    "ax.set_title(\"Years of Prior Experience: Engineers\");\n",
    "ax.set_ylabel(\"Occupations\");\n",
    "ax.set_xlabel(\"Years\");\n",
    "fig.savefig(\"workeng.png\", bbox_inches = 'tight')"
   ]
  },
  {
   "cell_type": "code",
   "execution_count": null,
   "metadata": {},
   "outputs": [],
   "source": []
  }
 ],
 "metadata": {
  "kernelspec": {
   "display_name": "Python 3",
   "language": "python",
   "name": "python3"
  },
  "language_info": {
   "codemirror_mode": {
    "name": "ipython",
    "version": 3
   },
   "file_extension": ".py",
   "mimetype": "text/x-python",
   "name": "python",
   "nbconvert_exporter": "python",
   "pygments_lexer": "ipython3",
   "version": "3.7.4"
  },
  "toc": {
   "base_numbering": 1,
   "nav_menu": {},
   "number_sections": true,
   "sideBar": true,
   "skip_h1_title": false,
   "title_cell": "Table of Contents",
   "title_sidebar": "Contents",
   "toc_cell": false,
   "toc_position": {},
   "toc_section_display": true,
   "toc_window_display": false
  },
  "varInspector": {
   "cols": {
    "lenName": 16,
    "lenType": 16,
    "lenVar": 40
   },
   "kernels_config": {
    "python": {
     "delete_cmd_postfix": "",
     "delete_cmd_prefix": "del ",
     "library": "var_list.py",
     "varRefreshCmd": "print(var_dic_list())"
    },
    "r": {
     "delete_cmd_postfix": ") ",
     "delete_cmd_prefix": "rm(",
     "library": "var_list.r",
     "varRefreshCmd": "cat(var_dic_list()) "
    }
   },
   "types_to_exclude": [
    "module",
    "function",
    "builtin_function_or_method",
    "instance",
    "_Feature"
   ],
   "window_display": false
  }
 },
 "nbformat": 4,
 "nbformat_minor": 2
}
