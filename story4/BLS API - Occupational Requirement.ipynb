{
 "cells": [
  {
   "cell_type": "code",
   "execution_count": 16,
   "metadata": {},
   "outputs": [],
   "source": [
    "import json\n",
    "import requests\n",
    "import pandas as pd\n",
    "from pprint import pprint\n",
    "from config import api_key\n",
    "base_url = \"https://api.bls.gov/publicAPI/v2/timeseries/data/\"\n",
    "startyear = \"2015\"\n",
    "endyear = \"2019\"\n",
    "occupationcode = [\"130\",\"008\",\"028\"]"
   ]
  },
  {
   "cell_type": "code",
   "execution_count": 12,
   "metadata": {},
   "outputs": [
    {
     "name": "stdout",
     "output_type": "stream",
     "text": [
      "aking request for Code: 008\n",
      "aking request for Code: 028\n"
     ]
    },
    {
     "data": {
      "text/plain": [
       "[{'status': 'REQUEST_SUCCEEDED',\n",
       "  'responseTime': 172,\n",
       "  'message': ['No Data Available for Series ORUV1000000800000108 Year: 2015',\n",
       "   'No Data Available for Series ORUV1000000800000108 Year: 2016',\n",
       "   'No Data Available for Series ORUV1000000800000108 Year: 2017',\n",
       "   'No Data Available for Series ORUV1000000800000108 Year: 2019'],\n",
       "  'Results': {'series': [{'seriesID': 'ORUV1000000800000108',\n",
       "     'catalog': {'series_title': 'Civilian workers; sales managers; days of prior work experience, mean',\n",
       "      'series_id': 'ORUV1000000800000108',\n",
       "      'seasonality': 'Not Seasonally Adjusted',\n",
       "      'survey_name': 'Occupational Requirements Survey',\n",
       "      'survey_abbreviation': 'OR',\n",
       "      'measure_data_type': 'Days',\n",
       "      'commerce_industry': 'All workers',\n",
       "      'occupation': 'Sales Managers',\n",
       "      'occupation_work_class': 'All workers',\n",
       "      'requirements': 'Education, training, and experience',\n",
       "      'type_of_cases': 'Prior work experience'},\n",
       "     'data': [{'year': '2018',\n",
       "       'period': 'A01',\n",
       "       'periodName': 'Annual',\n",
       "       'latest': 'true',\n",
       "       'value': '1788.52',\n",
       "       'footnotes': [{}]}]}]}},\n",
       " {'status': 'REQUEST_SUCCEEDED',\n",
       "  'responseTime': 152,\n",
       "  'message': ['No Data Available for Series ORUV1000002800000108 Year: 2015',\n",
       "   'No Data Available for Series ORUV1000002800000108 Year: 2016',\n",
       "   'No Data Available for Series ORUV1000002800000108 Year: 2017',\n",
       "   'No Data Available for Series ORUV1000002800000108 Year: 2019'],\n",
       "  'Results': {'series': [{'seriesID': 'ORUV1000002800000108',\n",
       "     'catalog': {'series_title': 'Civilian workers; human resources managers; days of prior work experience, mean',\n",
       "      'series_id': 'ORUV1000002800000108',\n",
       "      'seasonality': 'Not Seasonally Adjusted',\n",
       "      'survey_name': 'Occupational Requirements Survey',\n",
       "      'survey_abbreviation': 'OR',\n",
       "      'measure_data_type': 'Days',\n",
       "      'commerce_industry': 'All workers',\n",
       "      'occupation': 'Human Resources Managers',\n",
       "      'occupation_work_class': 'All workers',\n",
       "      'requirements': 'Education, training, and experience',\n",
       "      'type_of_cases': 'Prior work experience'},\n",
       "     'data': [{'year': '2018',\n",
       "       'period': 'A01',\n",
       "       'periodName': 'Annual',\n",
       "       'latest': 'true',\n",
       "       'value': '1823.20',\n",
       "       'footnotes': [{}]}]}]}}]"
      ]
     },
     "execution_count": 12,
     "metadata": {},
     "output_type": "execute_result"
    }
   ],
   "source": [
    "\n",
    "# To pull mean prior experience required (in days) for the occpupations\n",
    "prior_experience_json = []\n",
    "\n",
    "for i in range(len(occupationcode)):\n",
    "    print(f\"aking request for Code: {occupationcode[i]}\")\n",
    "    prior_exp_response = requests.get(base_url + \"ORUV10000\"+ (occupationcode[i])+ \"000\"+\"00108\" + \"?registrationkey=\"+\n",
    "                                 api_key + \"&catalog=true&startyear=\" +startyear + \"&endyear=\" + endyear +\n",
    "                                 \"&calculations=false&annualaverage=false\")\n",
    "    prior_experience_json.append(prior_exp_response.json())\n",
    "prior_experience_json"
   ]
  },
  {
   "cell_type": "code",
   "execution_count": 13,
   "metadata": {},
   "outputs": [
    {
     "name": "stdout",
     "output_type": "stream",
     "text": [
      "aking request for Code: 008\n",
      "aking request for Code: 028\n"
     ]
    },
    {
     "data": {
      "text/plain": [
       "[{'status': 'REQUEST_SUCCEEDED',\n",
       "  'responseTime': 238,\n",
       "  'message': ['No Data Available for Series ORUV1000000800001029 Year: 2015',\n",
       "   'No Data Available for Series ORUV1000000800001029 Year: 2016',\n",
       "   'No Data Available for Series ORUV1000000800001029 Year: 2017',\n",
       "   'No Data Available for Series ORUV1000000800001029 Year: 2019'],\n",
       "  'Results': {'series': [{'seriesID': 'ORUV1000000800001029',\n",
       "     'catalog': {'series_title': \"Civilian workers; % of sales managers; minimum education level is a bachelor's degree\",\n",
       "      'series_id': 'ORUV1000000800001029',\n",
       "      'seasonality': 'Not Seasonally Adjusted',\n",
       "      'survey_name': 'Occupational Requirements Survey',\n",
       "      'survey_abbreviation': 'OR',\n",
       "      'measure_data_type': 'Percentage',\n",
       "      'commerce_industry': 'All workers',\n",
       "      'occupation': 'Sales Managers',\n",
       "      'occupation_work_class': 'All workers',\n",
       "      'requirements': 'Education, training, and experience',\n",
       "      'type_of_cases': 'Minimum education level'},\n",
       "     'data': [{'year': '2018',\n",
       "       'period': 'A01',\n",
       "       'periodName': 'Annual',\n",
       "       'latest': 'true',\n",
       "       'value': '63.5',\n",
       "       'footnotes': [{'code': '7',\n",
       "         'text': 'This estimate is the mode for the category group.'}]}]}]}},\n",
       " {'status': 'REQUEST_SUCCEEDED',\n",
       "  'responseTime': 148,\n",
       "  'message': ['No Data Available for Series ORUV1000002800001029 Year: 2015',\n",
       "   'No Data Available for Series ORUV1000002800001029 Year: 2016',\n",
       "   'No Data Available for Series ORUV1000002800001029 Year: 2017',\n",
       "   'No Data Available for Series ORUV1000002800001029 Year: 2019'],\n",
       "  'Results': {'series': [{'seriesID': 'ORUV1000002800001029',\n",
       "     'catalog': {'series_title': \"Civilian workers; % of human resources managers; minimum education level is a bachelor's degree\",\n",
       "      'series_id': 'ORUV1000002800001029',\n",
       "      'seasonality': 'Not Seasonally Adjusted',\n",
       "      'survey_name': 'Occupational Requirements Survey',\n",
       "      'survey_abbreviation': 'OR',\n",
       "      'measure_data_type': 'Percentage',\n",
       "      'commerce_industry': 'All workers',\n",
       "      'occupation': 'Human Resources Managers',\n",
       "      'occupation_work_class': 'All workers',\n",
       "      'requirements': 'Education, training, and experience',\n",
       "      'type_of_cases': 'Minimum education level'},\n",
       "     'data': [{'year': '2018',\n",
       "       'period': 'A01',\n",
       "       'periodName': 'Annual',\n",
       "       'latest': 'true',\n",
       "       'value': '79.4',\n",
       "       'footnotes': [{'code': '7',\n",
       "         'text': 'This estimate is the mode for the category group.'}]}]}]}}]"
      ]
     },
     "execution_count": 13,
     "metadata": {},
     "output_type": "execute_result"
    }
   ],
   "source": [
    "# To pull percentage of jobs that require a bachelor's degree\n",
    "pct_bachelor_json = []\n",
    "\n",
    "for i in range(len(occupationcode)):\n",
    "    print(f\"aking request for Code: {occupationcode[i]}\")\n",
    "    pct_bachelor_response = requests.get(base_url + \"ORUV10000\"+ (occupationcode[i])+ \"000\"+\"01029\" + \"?registrationkey=\"+\n",
    "                                 api_key + \"&catalog=true&startyear=\" +startyear + \"&endyear=\" + endyear +\n",
    "                                 \"&calculations=false&annualaverage=false\")\n",
    "    pct_bachelor_json.append(pct_bachelor_response.json())\n",
    "pct_bachelor_json"
   ]
  }
 ],
 "metadata": {
  "kernelspec": {
   "display_name": "Python 3",
   "language": "python",
   "name": "python3"
  },
  "language_info": {
   "codemirror_mode": {
    "name": "ipython",
    "version": 3
   },
   "file_extension": ".py",
   "mimetype": "text/x-python",
   "name": "python",
   "nbconvert_exporter": "python",
   "pygments_lexer": "ipython3",
   "version": "3.7.4"
  }
 },
 "nbformat": 4,
 "nbformat_minor": 2
}
